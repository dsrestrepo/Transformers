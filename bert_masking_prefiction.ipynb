{
 "cells": [
  {
   "cell_type": "code",
   "execution_count": 1,
   "metadata": {},
   "outputs": [],
   "source": [
    "import torch\n",
    "from transformers import BertTokenizer, BertForMaskedLM\n",
    "\n",
    "import numpy as np\n",
    "\n",
    "import matplotlib.pyplot as plt\n",
    "import plotly.graph_objects as go"
   ]
  },
  {
   "attachments": {},
   "cell_type": "markdown",
   "metadata": {},
   "source": [
    "### Get pre-trained BERT Model"
   ]
  },
  {
   "cell_type": "code",
   "execution_count": 2,
   "metadata": {},
   "outputs": [],
   "source": [
    "MODEL = 'bert-base-uncased'"
   ]
  },
  {
   "cell_type": "code",
   "execution_count": 3,
   "metadata": {},
   "outputs": [
    {
     "name": "stderr",
     "output_type": "stream",
     "text": [
      "Some weights of the model checkpoint at bert-base-uncased were not used when initializing BertForMaskedLM: ['cls.seq_relationship.bias', 'cls.seq_relationship.weight']\n",
      "- This IS expected if you are initializing BertForMaskedLM from the checkpoint of a model trained on another task or with another architecture (e.g. initializing a BertForSequenceClassification model from a BertForPreTraining model).\n",
      "- This IS NOT expected if you are initializing BertForMaskedLM from the checkpoint of a model that you expect to be exactly identical (initializing a BertForSequenceClassification model from a BertForSequenceClassification model).\n"
     ]
    }
   ],
   "source": [
    "# Load pre-trained BERT model and tokenizer\n",
    "tokenizer = BertTokenizer.from_pretrained(MODEL)\n",
    "model = BertForMaskedLM.from_pretrained(MODEL)"
   ]
  },
  {
   "attachments": {},
   "cell_type": "markdown",
   "metadata": {},
   "source": [
    "### Example of text imputation:"
   ]
  },
  {
   "cell_type": "code",
   "execution_count": 19,
   "metadata": {},
   "outputs": [],
   "source": [
    "# Example sentences\n",
    "sentences = [\"[MASK] plays the [MASK] very well.\", \"[MASK] is a doctor\", \"[MASK] is a nurse\", \"[MASK] is an engineer\"]\n",
    "\n",
    "# Tokenize the sentences\n",
    "tokenized_sentences = [tokenizer.encode(sentence, add_special_tokens=True) for sentence in sentences]\n",
    "masked_token_id = tokenizer.convert_tokens_to_ids('[MASK]')\n",
    "\n",
    "# Tokenize the sentence\n",
    "masked_indices = []\n",
    "for sentence in tokenized_sentences:\n",
    "    masked_indices.append([i for i, token in enumerate(sentence) if token == masked_token_id])\n",
    "\n",
    "# Convert tokens to token IDs\n",
    "input_tensors = [torch.tensor([input_ids]) for input_ids in tokenized_sentences]"
   ]
  },
  {
   "cell_type": "code",
   "execution_count": 20,
   "metadata": {},
   "outputs": [],
   "source": [
    "# Predict the masked words\n",
    "with torch.no_grad():\n",
    "    predictions = [model(input_tensor).logits.squeeze(0) for input_tensor in input_tensors]"
   ]
  },
  {
   "cell_type": "code",
   "execution_count": 21,
   "metadata": {},
   "outputs": [],
   "source": [
    "# Get the prediction of the masked tokens\n",
    "def get_prediction(i, masked_indices, predictions, sentence):\n",
    "    for masked_index in masked_indices[i]:\n",
    "        predicted_token_id = torch.argmax(predictions[i][masked_index]).item()\n",
    "        sentence[masked_index] = predicted_token_id\n",
    "\n",
    "    return sentence"
   ]
  },
  {
   "cell_type": "code",
   "execution_count": 22,
   "metadata": {},
   "outputs": [
    {
     "name": "stdout",
     "output_type": "stream",
     "text": [
      "Original sentence: ['[MASK] plays the [MASK] very well.', '[MASK] is a doctor', '[MASK] is a nurse', '[MASK] is an engineer']\n",
      "Imputed sentence: ['he plays the piano very well .', 'he is a doctor', 'she is a nurse', 'he is an engineer']\n"
     ]
    }
   ],
   "source": [
    "# Replace the masked words with the predicted words\n",
    "imputed_sentences = [get_prediction(i, masked_indices, predictions, sentence) for i, sentence in enumerate(tokenized_sentences)]\n",
    "\n",
    "# Reconstruct the imputed sentence\n",
    "imputed_sentences = [tokenizer.convert_tokens_to_string(tokenizer.convert_ids_to_tokens(imputed_sentence, skip_special_tokens=True)) for imputed_sentence in imputed_sentences]\n",
    "\n",
    "print(\"Original sentence:\", sentences)\n",
    "print(\"Imputed sentence:\", imputed_sentences)"
   ]
  },
  {
   "attachments": {},
   "cell_type": "markdown",
   "metadata": {},
   "source": [
    "### UI Example:"
   ]
  },
  {
   "cell_type": "code",
   "execution_count": 7,
   "metadata": {},
   "outputs": [
    {
     "name": "stdout",
     "output_type": "stream",
     "text": [
      "Running on local URL:  http://127.0.0.1:7862\n",
      "\n",
      "To create a public link, set `share=True` in `launch()`.\n"
     ]
    },
    {
     "data": {
      "text/html": [
       "<div><iframe src=\"http://127.0.0.1:7862/\" width=\"100%\" height=\"500\" allow=\"autoplay; camera; microphone; clipboard-read; clipboard-write;\" frameborder=\"0\" allowfullscreen></iframe></div>"
      ],
      "text/plain": [
       "<IPython.core.display.HTML object>"
      ]
     },
     "metadata": {},
     "output_type": "display_data"
    }
   ],
   "source": [
    "import gradio as gr\n",
    "import plotly.graph_objects as go\n",
    "\n",
    "def get_prediction(i, masked_indices, predictions, sentence):\n",
    "    for masked_index in masked_indices[i]:\n",
    "        predicted_token_id = torch.argmax(predictions[i][masked_index]).item()\n",
    "        sentence[masked_index] = predicted_token_id\n",
    "\n",
    "    return sentence\n",
    "\n",
    "def password(password):\n",
    "    return password == 'burpee'\n",
    "\n",
    "\n",
    "def complete_sentence(sentences):\n",
    "\n",
    "    sentences = sentences.split(\"\\n\")\n",
    "\n",
    "    # Tokenize the sentences\n",
    "    if isinstance(sentences, str):\n",
    "        sentences = [sentences]\n",
    "\n",
    "    # Tokenize the sentences\n",
    "    tokenized_sentences = [tokenizer.encode(sentence, add_special_tokens=True) for sentence in sentences]\n",
    "    masked_token_id = tokenizer.convert_tokens_to_ids('[MASK]')\n",
    "\n",
    "    # Tokenize the sentence\n",
    "    masked_indices = []\n",
    "    for sentence in tokenized_sentences:\n",
    "        masked_indices.append([i for i, token in enumerate(sentence) if token == masked_token_id])\n",
    "\n",
    "    # Convert tokens to token IDs\n",
    "    input_tensors = [torch.tensor([input_ids]) for input_ids in tokenized_sentences]\n",
    "\n",
    "    # Predict the masked words\n",
    "    with torch.no_grad():\n",
    "        predictions = [model(input_tensor).logits.squeeze(0) for input_tensor in input_tensors]\n",
    "\n",
    "    # Replace the masked words with the predicted words\n",
    "    imputed_sentences = [get_prediction(i, masked_indices, predictions, sentence) for i, sentence in enumerate(tokenized_sentences)]\n",
    "\n",
    "    imputed_sentences_tekens = [[(token, '+' if token == masked_token_id else None) for token in sentence] for sentence in imputed_sentences]\n",
    "\n",
    "    # Reconstruct the imputed sentence\n",
    "    imputed_sentences = [tokenizer.convert_tokens_to_string(tokenizer.convert_ids_to_tokens(imputed_sentence, skip_special_tokens=True)) for imputed_sentence in imputed_sentences]\n",
    "\n",
    "    return sentences, imputed_sentences\n",
    "\n",
    "def display_imputed_sentences(sentences):\n",
    "    # Get the original and imputed sentences\n",
    "    original_sentences, imputed_sentences = complete_sentence(sentences)\n",
    "\n",
    "    display_sentences = []\n",
    "    for sentence, imputed_sentence in zip(original_sentences, imputed_sentences):\n",
    "\n",
    "        sentence = sentence.split()\n",
    "        imputed_sentence = imputed_sentence.split()\n",
    "\n",
    "        for index in range(len(sentence)):\n",
    "            word = sentence[index]\n",
    "            imputed_word = imputed_sentence[index]\n",
    "            if word == '[MASK]':\n",
    "                display_sentences.append((imputed_word, '+'))\n",
    "            else:\n",
    "                display_sentences.append((word, None))\n",
    "            display_sentences.append((' ', None))\n",
    "\n",
    "        display_sentences.append(('\\n', '-'))\n",
    "\n",
    "    display_sentences = ''.join([word for word, _ in display_sentences])\n",
    "\n",
    "    return display_sentences\n",
    "\n",
    "\n",
    "with gr.Blocks() as demo:\n",
    "\n",
    "    # Define the input component\n",
    "    input_text = gr.Textbox(lines=3, \n",
    "                            label=\"Enter one sentence per line. Maked values shoud be represented as [MASK]\", \n",
    "                            value=\"[MASK] is a doctor \\n[MASK] is a nurse \\n[MASK] is an engineer \\n[MASK] is a teacher\")\n",
    "\n",
    "\n",
    "    # Define the button component\n",
    "    btn = gr.Button(value=\"Complete the text\")\n",
    "\n",
    "    # Define the output component\n",
    "    out = gr.Textbox()\n",
    "\n",
    "    # If button is clicked, run the function\n",
    "    btn.click(display_imputed_sentences, inputs=[input_text], outputs=[out])\n",
    "\n",
    "    # load the interface:\n",
    "    demo.load(display_imputed_sentences, inputs=[input_text], outputs=[out])\n",
    "\n",
    "    # Run the interface\n",
    "    demo.launch()\n",
    "    #demo.launch(auth=password)\n",
    "    "
   ]
  }
 ],
 "metadata": {
  "kernelspec": {
   "display_name": "transformers",
   "language": "python",
   "name": "python3"
  },
  "language_info": {
   "codemirror_mode": {
    "name": "ipython",
    "version": 3
   },
   "file_extension": ".py",
   "mimetype": "text/x-python",
   "name": "python",
   "nbconvert_exporter": "python",
   "pygments_lexer": "ipython3",
   "version": "3.9.13"
  },
  "orig_nbformat": 4
 },
 "nbformat": 4,
 "nbformat_minor": 2
}
