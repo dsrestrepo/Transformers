{
 "cells": [
  {
   "cell_type": "markdown",
   "id": "985be34c",
   "metadata": {},
   "source": [
    "## Setup Environment"
   ]
  },
  {
   "cell_type": "code",
   "execution_count": 1,
   "id": "ea3fb366",
   "metadata": {},
   "outputs": [],
   "source": [
    "#!pip install transformers\n",
    "#!pip install numpy --upgrade\n",
    "#!pip install scikit-learn"
   ]
  },
  {
   "cell_type": "code",
   "execution_count": 2,
   "id": "4fdf1210",
   "metadata": {},
   "outputs": [],
   "source": [
    "import pandas as pd\n",
    "import numpy as np\n",
    "import seaborn as sns\n",
    "\n",
    "from transformers import BertTokenizer\n",
    "from transformers import BertModel\n",
    "\n",
    "import torch\n",
    "from torch import nn\n",
    "\n",
    "from sklearn.model_selection import train_test_split"
   ]
  },
  {
   "cell_type": "code",
   "execution_count": 3,
   "id": "de1299b9",
   "metadata": {},
   "outputs": [],
   "source": [
    "## Options:\n",
    "# BERT: 'bert-base-cased'\n",
    "# BERT: bert-large-cased'\n",
    "# mBERT: 'bert-base-multilingual-cased'\n",
    "# BETO: 'dccuchile/bert-base-spanish-wwm-cased' \n",
    "\n",
    "\"\"\"\n",
    "In a cased model, the original casing of the input text is preserved. \n",
    "This means that the model distinguishes between uppercase and lowercase letters when processing the input text. \n",
    "For example, \"Hello\" and \"hello\" would be treated as two different words by a cased BERT model.\n",
    "\"\"\"\n",
    "\n",
    "# BERT: 'bert-base-uncased'\n",
    "# BERT: 'bert-large-uncased'\n",
    "# BETO: 'dccuchile/bert-base-spanish-wwm-uncased'\n",
    "\n",
    "\n",
    "BERT = 'bert-base-cased'\n",
    "MAX_TOKENS = 250"
   ]
  },
  {
   "cell_type": "markdown",
   "id": "242ee0c0",
   "metadata": {},
   "source": [
    "### Read Data"
   ]
  },
  {
   "cell_type": "code",
   "execution_count": 4,
   "id": "321128b4",
   "metadata": {},
   "outputs": [
    {
     "data": {
      "text/html": [
       "<div>\n",
       "<style scoped>\n",
       "    .dataframe tbody tr th:only-of-type {\n",
       "        vertical-align: middle;\n",
       "    }\n",
       "\n",
       "    .dataframe tbody tr th {\n",
       "        vertical-align: top;\n",
       "    }\n",
       "\n",
       "    .dataframe thead th {\n",
       "        text-align: right;\n",
       "    }\n",
       "</style>\n",
       "<table border=\"1\" class=\"dataframe\">\n",
       "  <thead>\n",
       "    <tr style=\"text-align: right;\">\n",
       "      <th></th>\n",
       "      <th>Tweet_ID</th>\n",
       "      <th>tweet</th>\n",
       "      <th>type</th>\n",
       "    </tr>\n",
       "  </thead>\n",
       "  <tbody>\n",
       "    <tr>\n",
       "      <th>0</th>\n",
       "      <td>ID_0022DWKP</td>\n",
       "      <td>Had a dream i got raped last night. By a guy i...</td>\n",
       "      <td>sexual_violence</td>\n",
       "    </tr>\n",
       "    <tr>\n",
       "      <th>1</th>\n",
       "      <td>ID_00395QYM</td>\n",
       "      <td>he thought the word raped means sex and told m...</td>\n",
       "      <td>sexual_violence</td>\n",
       "    </tr>\n",
       "    <tr>\n",
       "      <th>2</th>\n",
       "      <td>ID_003EOSSF</td>\n",
       "      <td>She NOT TALKING TO ME I WAS RAPED BY 2 MEN 1 M...</td>\n",
       "      <td>sexual_violence</td>\n",
       "    </tr>\n",
       "    <tr>\n",
       "      <th>3</th>\n",
       "      <td>ID_004BBHOD</td>\n",
       "      <td>I was sexually abused for 3 years at age 4 to ...</td>\n",
       "      <td>sexual_violence</td>\n",
       "    </tr>\n",
       "    <tr>\n",
       "      <th>4</th>\n",
       "      <td>ID_004F7516</td>\n",
       "      <td>Chessy Prout can do better by telling the trut...</td>\n",
       "      <td>sexual_violence</td>\n",
       "    </tr>\n",
       "    <tr>\n",
       "      <th>...</th>\n",
       "      <td>...</td>\n",
       "      <td>...</td>\n",
       "      <td>...</td>\n",
       "    </tr>\n",
       "    <tr>\n",
       "      <th>39645</th>\n",
       "      <td>ID_ZZTLP2L5</td>\n",
       "      <td>ENTRY 1299: 21F. 23M, BF’s cousin. Got drunk o...</td>\n",
       "      <td>sexual_violence</td>\n",
       "    </tr>\n",
       "    <tr>\n",
       "      <th>39646</th>\n",
       "      <td>ID_ZZXB10M6</td>\n",
       "      <td>So you’re telling me Emmanuel Macron was groom...</td>\n",
       "      <td>sexual_violence</td>\n",
       "    </tr>\n",
       "    <tr>\n",
       "      <th>39647</th>\n",
       "      <td>ID_ZZY8B7FJ</td>\n",
       "      <td>My wife regularly beats me, I get dirty slaps ...</td>\n",
       "      <td>Physical_violence</td>\n",
       "    </tr>\n",
       "    <tr>\n",
       "      <th>39648</th>\n",
       "      <td>ID_ZZYAFD8L</td>\n",
       "      <td>Me: Hey babe! Police officer boyfriend: is tha...</td>\n",
       "      <td>sexual_violence</td>\n",
       "    </tr>\n",
       "    <tr>\n",
       "      <th>39649</th>\n",
       "      <td>ID_ZZZ8QEKT</td>\n",
       "      <td>“I will take accountability if you think it’s ...</td>\n",
       "      <td>sexual_violence</td>\n",
       "    </tr>\n",
       "  </tbody>\n",
       "</table>\n",
       "<p>39650 rows × 3 columns</p>\n",
       "</div>"
      ],
      "text/plain": [
       "          Tweet_ID                                              tweet  \\\n",
       "0      ID_0022DWKP  Had a dream i got raped last night. By a guy i...   \n",
       "1      ID_00395QYM  he thought the word raped means sex and told m...   \n",
       "2      ID_003EOSSF  She NOT TALKING TO ME I WAS RAPED BY 2 MEN 1 M...   \n",
       "3      ID_004BBHOD  I was sexually abused for 3 years at age 4 to ...   \n",
       "4      ID_004F7516  Chessy Prout can do better by telling the trut...   \n",
       "...            ...                                                ...   \n",
       "39645  ID_ZZTLP2L5  ENTRY 1299: 21F. 23M, BF’s cousin. Got drunk o...   \n",
       "39646  ID_ZZXB10M6  So you’re telling me Emmanuel Macron was groom...   \n",
       "39647  ID_ZZY8B7FJ  My wife regularly beats me, I get dirty slaps ...   \n",
       "39648  ID_ZZYAFD8L  Me: Hey babe! Police officer boyfriend: is tha...   \n",
       "39649  ID_ZZZ8QEKT  “I will take accountability if you think it’s ...   \n",
       "\n",
       "                    type  \n",
       "0        sexual_violence  \n",
       "1        sexual_violence  \n",
       "2        sexual_violence  \n",
       "3        sexual_violence  \n",
       "4        sexual_violence  \n",
       "...                  ...  \n",
       "39645    sexual_violence  \n",
       "39646    sexual_violence  \n",
       "39647  Physical_violence  \n",
       "39648    sexual_violence  \n",
       "39649    sexual_violence  \n",
       "\n",
       "[39650 rows x 3 columns]"
      ]
     },
     "execution_count": 4,
     "metadata": {},
     "output_type": "execute_result"
    }
   ],
   "source": [
    "df = pd.read_csv('Train.csv')\n",
    "df"
   ]
  },
  {
   "cell_type": "code",
   "execution_count": 5,
   "id": "950965bb",
   "metadata": {},
   "outputs": [
    {
     "data": {
      "text/plain": [
       "{'Harmful_Traditional_practice': 0,\n",
       " 'Physical_violence': 1,\n",
       " 'economic_violence': 2,\n",
       " 'emotional_violence': 3,\n",
       " 'sexual_violence': 4}"
      ]
     },
     "execution_count": 5,
     "metadata": {},
     "output_type": "execute_result"
    }
   ],
   "source": [
    "class_dic = {}\n",
    "\n",
    "for i, violence_class in enumerate(np.unique(df.type)):\n",
    "    class_dic[violence_class] =  i\n",
    "\n",
    "class_dic"
   ]
  },
  {
   "cell_type": "code",
   "execution_count": 6,
   "id": "ba3afebc",
   "metadata": {},
   "outputs": [
    {
     "data": {
      "text/plain": [
       "<AxesSubplot: xlabel='type', ylabel='count'>"
      ]
     },
     "execution_count": 6,
     "metadata": {},
     "output_type": "execute_result"
    },
    {
     "data": {
      "image/png": "[encoded data removed]",
      "text/plain": [
       "<Figure size 1170x827 with 1 Axes>"
      ]
     },
     "metadata": {},
     "output_type": "display_data"
    }
   ],
   "source": [
    "sns.set(rc={'figure.figsize':(11.7,8.27)})\n",
    "\n",
    "sns.countplot(x=df['type'])"
   ]
  },
  {
   "cell_type": "markdown",
   "id": "4729a0d5",
   "metadata": {},
   "source": [
    "### Preprocessing"
   ]
  },
  {
   "cell_type": "code",
   "execution_count": 7,
   "id": "ef74f615",
   "metadata": {},
   "outputs": [],
   "source": [
    "tokenizer = BertTokenizer.from_pretrained(BERT)"
   ]
  },
  {
   "cell_type": "code",
   "execution_count": 8,
   "id": "e4e92237",
   "metadata": {},
   "outputs": [
    {
     "name": "stdout",
     "output_type": "stream",
     "text": [
      "Original: This is an example of a text\n",
      "tensor([[ 101, 1188, 1110, 1126, 1859, 1104,  170, 3087,  102,    0,    0,    0,\n",
      "            0,    0,    0]])\n",
      "tensor([[0, 0, 0, 0, 0, 0, 0, 0, 0, 0, 0, 0, 0, 0, 0]])\n",
      "tensor([[1, 1, 1, 1, 1, 1, 1, 1, 1, 0, 0, 0, 0, 0, 0]])\n",
      "\n",
      "Decoded: [CLS] This is an example of a text [SEP] [PAD] [PAD] [PAD] [PAD] [PAD] [PAD]\n"
     ]
    }
   ],
   "source": [
    "example_text = 'This is an example of a text'\n",
    "\n",
    "# Encode Text:\n",
    "bert_input = tokenizer(example_text, padding='max_length', max_length = 15, \n",
    "                       truncation=True, return_tensors=\"pt\")\n",
    "\n",
    "print(f'Original: {example_text}')\n",
    "print(bert_input['input_ids']) # Words IDs\n",
    "print(bert_input['token_type_ids']) # Same sentence\n",
    "print(bert_input['attention_mask']) # Padding\n",
    "\n",
    "# Decode:\n",
    "example_text = tokenizer.decode(bert_input.input_ids[0])\n",
    "print('')\n",
    "print(f'Decoded: {example_text}')"
   ]
  },
  {
   "cell_type": "markdown",
   "id": "84400e96",
   "metadata": {},
   "source": [
    "### Dataloader"
   ]
  },
  {
   "cell_type": "code",
   "execution_count": 9,
   "id": "810ae4d2",
   "metadata": {},
   "outputs": [],
   "source": [
    "tokenizer = BertTokenizer.from_pretrained(BERT)\n",
    "\n",
    "class TextDataset(torch.utils.data.Dataset):\n",
    "    \n",
    "    def __init__(self, tokenizer, df, labels_column='type', text_column='tweet', max_length=512):\n",
    "        \n",
    "        self.tokenizer = BertTokenizer.from_pretrained(tokenizer)\n",
    "        self.df = df\n",
    "        self.labels_column = labels_column\n",
    "        self.text_column = text_column\n",
    "\n",
    "        self.labels = self._get_labels()\n",
    "        \n",
    "        self.texts = self._get_texts(max_length)\n",
    "    \n",
    "    def _get_labels(self):\n",
    "        # Generate dict \"label name\" -> \"label number\"\n",
    "        labels_dic = {}\n",
    "        for i, label in enumerate(np.unique(self.df[self.labels_column])):\n",
    "            labels_dic[label] =  i\n",
    "        # Map labels\n",
    "        labels = [labels_dic[label] for label in self.df[self.labels_column]]    \n",
    "        return labels\n",
    "    \n",
    "    def _get_texts(self, max_length):\n",
    "        # Generate the tokens of each text in the dataframe\n",
    "        texts = [self.tokenizer(text, padding='max_length', max_length=max_length, truncation=True, return_tensors=\"pt\") for text in self.df[self.text_column]]\n",
    "        return texts\n",
    "\n",
    "    def classes(self):\n",
    "        return self.labels\n",
    "\n",
    "    def __len__(self):\n",
    "        return len(self.labels)\n",
    "    \n",
    "    def get_batch_labels(self, idx):\n",
    "        # Fetch a batch of labels\n",
    "        return np.array(self.labels[idx])\n",
    "\n",
    "    def get_batch_texts(self, idx):\n",
    "        # Fetch a batch of inputs\n",
    "        return self.texts[idx]\n",
    "\n",
    "    def __getitem__(self, idx):\n",
    "\n",
    "        batch_texts = self.get_batch_texts(idx)\n",
    "        batch_y = self.get_batch_labels(idx)\n",
    "\n",
    "        return batch_texts, batch_y\n"
   ]
  },
  {
   "cell_type": "code",
   "execution_count": 10,
   "id": "9853acb9",
   "metadata": {},
   "outputs": [],
   "source": [
    "def split_df(df, test_size=0.2, val_size=0.2):\n",
    "    \n",
    "    ######## TODO: BALANCE DATASET!!! ########\n",
    "    \n",
    "    print(f'Original dataset of shape: {df.shape}')\n",
    "    print('Splitting...')\n",
    "    \n",
    "    df_train, df_test = train_test_split(df, test_size=0.2, random_state=42)\n",
    "    if val_size:\n",
    "        df_train, df_val = train_test_split(df_train, test_size=val_size, random_state=42)\n",
    "        \n",
    "        print(f'Train dataset of shape: {df_train.shape}')\n",
    "        print(f'Test dataset of shape: {df_test.shape}')\n",
    "        print(f'Validation dataset of shape: {df_val.shape}')\n",
    "        \n",
    "        return df_train, df_test, df_val\n",
    "    else:\n",
    "        print(f'Train dataset of shape: {df_train.shape}')\n",
    "        print(f'Test dataset of shape: {df_test.shape}')\n",
    "        return df_train, df_test"
   ]
  },
  {
   "cell_type": "code",
   "execution_count": 11,
   "id": "6474ce14",
   "metadata": {},
   "outputs": [
    {
     "name": "stdout",
     "output_type": "stream",
     "text": [
      "Original dataset of shape: (39650, 3)\n",
      "Splitting...\n",
      "Train dataset of shape: (25376, 3)\n",
      "Test dataset of shape: (7930, 3)\n",
      "Validation dataset of shape: (6344, 3)\n"
     ]
    }
   ],
   "source": [
    "df_train, df_test, df_val = split_df(df)"
   ]
  },
  {
   "cell_type": "code",
   "execution_count": 12,
   "id": "d5345e51",
   "metadata": {},
   "outputs": [],
   "source": [
    "train = TextDataset(BERT, df_train, max_length=MAX_TOKENS)\n",
    "test = TextDataset(BERT, df_test, max_length=MAX_TOKENS)\n",
    "val = TextDataset(BERT, df_val, max_length=MAX_TOKENS)"
   ]
  },
  {
   "cell_type": "markdown",
   "id": "e135c6da",
   "metadata": {},
   "source": [
    "### Modeling"
   ]
  },
  {
   "cell_type": "code",
   "execution_count": 13,
   "id": "0144992a",
   "metadata": {},
   "outputs": [],
   "source": [
    "class BertClassifier(nn.Module):\n",
    "\n",
    "    def __init__(self, classes, BERT, dropout=0.3):\n",
    "\n",
    "        super(BertClassifier, self).__init__()\n",
    "\n",
    "        self.bert = BertModel.from_pretrained(BERT)\n",
    "        # Bert has two outputs: \n",
    "        # 1. Sequence [Batch, Sequence, 768]\n",
    "        # 2. Pooled = [Batch, 768]\n",
    "        self.dropout = nn.Dropout(dropout)\n",
    "        # 768 if ussing the pooled output\n",
    "        self.linear = nn.Linear(768, classes)\n",
    "        self.relu = nn.ReLU()\n",
    "\n",
    "    def forward(self, input_id, mask):\n",
    "\n",
    "        _, pooled_output = self.bert(input_ids= input_id, attention_mask=mask,return_dict=False)\n",
    "        dropout_output = self.dropout(pooled_output)\n",
    "        linear_output = self.linear(dropout_output)\n",
    "        final_layer = self.relu(linear_output)\n",
    "\n",
    "        return final_layer"
   ]
  },
  {
   "cell_type": "code",
   "execution_count": 14,
   "id": "e360c194",
   "metadata": {},
   "outputs": [
    {
     "name": "stderr",
     "output_type": "stream",
     "text": [
      "Some weights of the model checkpoint at bert-base-cased were not used when initializing BertModel: ['cls.predictions.decoder.weight', 'cls.seq_relationship.weight', 'cls.predictions.transform.dense.bias', 'cls.seq_relationship.bias', 'cls.predictions.transform.dense.weight', 'cls.predictions.transform.LayerNorm.weight', 'cls.predictions.bias', 'cls.predictions.transform.LayerNorm.bias']\n",
      "- This IS expected if you are initializing BertModel from the checkpoint of a model trained on another task or with another architecture (e.g. initializing a BertForSequenceClassification model from a BertForPreTraining model).\n",
      "- This IS NOT expected if you are initializing BertModel from the checkpoint of a model that you expect to be exactly identical (initializing a BertForSequenceClassification model from a BertForSequenceClassification model).\n"
     ]
    },
    {
     "data": {
      "text/plain": [
       "BertClassifier(\n",
       "  (bert): BertModel(\n",
       "    (embeddings): BertEmbeddings(\n",
       "      (word_embeddings): Embedding(28996, 768, padding_idx=0)\n",
       "      (position_embeddings): Embedding(512, 768)\n",
       "      (token_type_embeddings): Embedding(2, 768)\n",
       "      (LayerNorm): LayerNorm((768,), eps=1e-12, elementwise_affine=True)\n",
       "      (dropout): Dropout(p=0.1, inplace=False)\n",
       "    )\n",
       "    (encoder): BertEncoder(\n",
       "      (layer): ModuleList(\n",
       "        (0-11): 12 x BertLayer(\n",
       "          (attention): BertAttention(\n",
       "            (self): BertSelfAttention(\n",
       "              (query): Linear(in_features=768, out_features=768, bias=True)\n",
       "              (key): Linear(in_features=768, out_features=768, bias=True)\n",
       "              (value): Linear(in_features=768, out_features=768, bias=True)\n",
       "              (dropout): Dropout(p=0.1, inplace=False)\n",
       "            )\n",
       "            (output): BertSelfOutput(\n",
       "              (dense): Linear(in_features=768, out_features=768, bias=True)\n",
       "              (LayerNorm): LayerNorm((768,), eps=1e-12, elementwise_affine=True)\n",
       "              (dropout): Dropout(p=0.1, inplace=False)\n",
       "            )\n",
       "          )\n",
       "          (intermediate): BertIntermediate(\n",
       "            (dense): Linear(in_features=768, out_features=3072, bias=True)\n",
       "            (intermediate_act_fn): GELUActivation()\n",
       "          )\n",
       "          (output): BertOutput(\n",
       "            (dense): Linear(in_features=3072, out_features=768, bias=True)\n",
       "            (LayerNorm): LayerNorm((768,), eps=1e-12, elementwise_affine=True)\n",
       "            (dropout): Dropout(p=0.1, inplace=False)\n",
       "          )\n",
       "        )\n",
       "      )\n",
       "    )\n",
       "    (pooler): BertPooler(\n",
       "      (dense): Linear(in_features=768, out_features=768, bias=True)\n",
       "      (activation): Tanh()\n",
       "    )\n",
       "  )\n",
       "  (dropout): Dropout(p=0.3, inplace=False)\n",
       "  (linear): Linear(in_features=768, out_features=5, bias=True)\n",
       "  (relu): ReLU()\n",
       ")"
      ]
     },
     "execution_count": 14,
     "metadata": {},
     "output_type": "execute_result"
    }
   ],
   "source": [
    "n_clsses = len(np.unique(df.type))\n",
    "\n",
    "model = BertClassifier(classes=n_clsses, BERT=BERT)\n",
    "model"
   ]
  },
  {
   "cell_type": "markdown",
   "id": "19e8f01b",
   "metadata": {},
   "source": [
    "### Model Training"
   ]
  },
  {
   "cell_type": "code",
   "execution_count": 20,
   "id": "6fbc7bb4",
   "metadata": {},
   "outputs": [
    {
     "data": {
      "text/plain": [
       "True"
      ]
     },
     "execution_count": 20,
     "metadata": {},
     "output_type": "execute_result"
    }
   ],
   "source": []
  },
  {
   "cell_type": "code",
   "execution_count": 23,
   "id": "cd9428c0",
   "metadata": {},
   "outputs": [],
   "source": [
    "from torch.optim import Adam\n",
    "from tqdm import tqdm\n",
    "\n",
    "def train_model(model, train, val, learning_rate, epochs):\n",
    "\n",
    "    train_dataloader = torch.utils.data.DataLoader(train, batch_size=8, shuffle=True)\n",
    "    val_dataloader = torch.utils.data.DataLoader(val, batch_size=8)\n",
    "\n",
    "    use_gpu = torch.backends.mps.is_available()\n",
    "    device = torch.device(\"mps\" if use_gpu else \"cpu\")\n",
    "\n",
    "    criterion = nn.CrossEntropyLoss()\n",
    "    optimizer = Adam(model.parameters(), lr= learning_rate)\n",
    "\n",
    "    if use_gpu:\n",
    "\n",
    "            model = model.to(device)\n",
    "            criterion = criterion.to(device)\n",
    "\n",
    "    for epoch_num in range(epochs):\n",
    "\n",
    "            total_acc_train = 0\n",
    "            total_loss_train = 0\n",
    "\n",
    "            for train_input, train_label in tqdm(train_dataloader):\n",
    "\n",
    "                train_label = train_label.to(device)\n",
    "                mask = train_input['attention_mask'].to(device)\n",
    "                input_id = train_input['input_ids'].squeeze(1).to(device)\n",
    "\n",
    "                output = model(input_id, mask)\n",
    "                \n",
    "                batch_loss = criterion(output, train_label.long())\n",
    "                total_loss_train += batch_loss.item()\n",
    "                \n",
    "                acc = (output.argmax(dim=1) == train_label).sum().item()\n",
    "                total_acc_train += acc\n",
    "\n",
    "                model.zero_grad()\n",
    "                batch_loss.backward()\n",
    "                optimizer.step()\n",
    "            \n",
    "            total_acc_val = 0\n",
    "            total_loss_val = 0\n",
    "\n",
    "            with torch.no_grad():\n",
    "\n",
    "                for val_input, val_label in val_dataloader:\n",
    "\n",
    "                    val_label = val_label.to(device)\n",
    "                    mask = val_input['attention_mask'].to(device)\n",
    "                    input_id = val_input['input_ids'].squeeze(1).to(device)\n",
    "\n",
    "                    output = model(input_id, mask)\n",
    "\n",
    "                    batch_loss = criterion(output, val_label.long())\n",
    "                    total_loss_val += batch_loss.item()\n",
    "                    \n",
    "                    acc = (output.argmax(dim=1) == val_label).sum().item()\n",
    "                    total_acc_val += acc\n",
    "            \n",
    "            print(\n",
    "                f'Epochs: {epoch_num + 1} | Train Loss: {total_loss_train / len(train): .3f} \\\n",
    "                | Train Accuracy: {total_acc_train / len(train): .3f} \\\n",
    "                | Val Loss: {total_loss_val / len(val): .3f} \\\n",
    "                | Val Accuracy: {total_acc_val / len(val): .3f}')"
   ]
  },
  {
   "cell_type": "code",
   "execution_count": 16,
   "id": "54397b01",
   "metadata": {},
   "outputs": [
    {
     "name": "stderr",
     "output_type": "stream",
     "text": [
      "100%|████████████████████████████████████| 3172/3172 [10:53:49<00:00, 12.37s/it]\n"
     ]
    },
    {
     "name": "stdout",
     "output_type": "stream",
     "text": [
      "Epochs: 1 | Train Loss:  0.026                 | Train Accuracy:  0.944                 | Val Loss:  0.007                 | Val Accuracy:  0.984\n"
     ]
    },
    {
     "name": "stderr",
     "output_type": "stream",
     "text": [
      "100%|█████████████████████████████████████| 3172/3172 [7:02:29<00:00,  7.99s/it]\n"
     ]
    },
    {
     "name": "stdout",
     "output_type": "stream",
     "text": [
      "Epochs: 2 | Train Loss:  0.005                 | Train Accuracy:  0.988                 | Val Loss:  0.005                 | Val Accuracy:  0.985\n"
     ]
    }
   ],
   "source": [
    "LR = 1e-6\n",
    "EPOCHS = 2              \n",
    "train_model(model, train, val, LR, EPOCHS)"
   ]
  },
  {
   "cell_type": "markdown",
   "id": "44580fb9",
   "metadata": {},
   "source": [
    "### Model Evaluation"
   ]
  },
  {
   "cell_type": "code",
   "execution_count": 24,
   "id": "635b7114",
   "metadata": {},
   "outputs": [],
   "source": [
    "def evaluate(model, test):\n",
    "\n",
    "    test_dataloader = torch.utils.data.DataLoader(test, batch_size=2)\n",
    "\n",
    "    use_gpu = torch.backends.mps.is_available()\n",
    "    device = torch.device(\"mps\" if use_gpu else \"cpu\")\n",
    "\n",
    "    if use_gpu:\n",
    "\n",
    "        model = model.to(device)\n",
    "\n",
    "    total_acc_test = 0\n",
    "    with torch.no_grad():\n",
    "\n",
    "        for test_input, test_label in test_dataloader:\n",
    "            \n",
    "            test_label = test_label.to(device)\n",
    "            mask = test_input['attention_mask'].to(device)\n",
    "            input_id = test_input['input_ids'].squeeze(1).to(device)\n",
    "\n",
    "            output = model(input_id, mask)\n",
    "\n",
    "            acc = (output.argmax(dim=1) == test_label).sum().item()\n",
    "            total_acc_test += acc\n",
    "    \n",
    "    print(f'Test Accuracy: {total_acc_test / len(test): .3f}')\n",
    "    \n",
    "    \n",
    "    \n",
    "    ######## TODO: New Metrics!!! ########\n",
    "    ######## TODO: Plot Confusion Matrix!!! ########"
   ]
  },
  {
   "cell_type": "code",
   "execution_count": 25,
   "id": "7d0c27b1",
   "metadata": {},
   "outputs": [
    {
     "name": "stdout",
     "output_type": "stream",
     "text": [
      "Test Accuracy:  0.985\n"
     ]
    }
   ],
   "source": [
    "evaluate(model, test)"
   ]
  }
 ],
 "metadata": {
  "kernelspec": {
   "display_name": "Python 3 (ipykernel)",
   "language": "python",
   "name": "python3"
  },
  "language_info": {
   "codemirror_mode": {
    "name": "ipython",
    "version": 3
   },
   "file_extension": ".py",
   "mimetype": "text/x-python",
   "name": "python",
   "nbconvert_exporter": "python",
   "pygments_lexer": "ipython3",
   "version": "3.9.13"
  }
 },
 "nbformat": 4,
 "nbformat_minor": 5
}
