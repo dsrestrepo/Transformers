{
 "cells": [
  {
   "cell_type": "code",
   "execution_count": 1,
   "metadata": {
    "scrolled": false
   },
   "outputs": [
    {
     "name": "stderr",
     "output_type": "stream",
     "text": [
      "/Users/davidrestrepo/miniforge3/envs/transformers/lib/python3.9/site-packages/umap/distances.py:1063: NumbaDeprecationWarning: The 'nopython' keyword argument was not supplied to the 'numba.jit' decorator. The implicit default value for this argument is currently False, but it will be changed to True in Numba 0.59.0. See https://numba.readthedocs.io/en/stable/reference/deprecation.html#deprecation-of-object-mode-fall-back-behaviour-when-using-jit for details.\n",
      "  @numba.jit()\n",
      "/Users/davidrestrepo/miniforge3/envs/transformers/lib/python3.9/site-packages/umap/distances.py:1071: NumbaDeprecationWarning: The 'nopython' keyword argument was not supplied to the 'numba.jit' decorator. The implicit default value for this argument is currently False, but it will be changed to True in Numba 0.59.0. See https://numba.readthedocs.io/en/stable/reference/deprecation.html#deprecation-of-object-mode-fall-back-behaviour-when-using-jit for details.\n",
      "  @numba.jit()\n",
      "/Users/davidrestrepo/miniforge3/envs/transformers/lib/python3.9/site-packages/umap/distances.py:1086: NumbaDeprecationWarning: The 'nopython' keyword argument was not supplied to the 'numba.jit' decorator. The implicit default value for this argument is currently False, but it will be changed to True in Numba 0.59.0. See https://numba.readthedocs.io/en/stable/reference/deprecation.html#deprecation-of-object-mode-fall-back-behaviour-when-using-jit for details.\n",
      "  @numba.jit()\n",
      "/Users/davidrestrepo/miniforge3/envs/transformers/lib/python3.9/site-packages/umap/umap_.py:660: NumbaDeprecationWarning: The 'nopython' keyword argument was not supplied to the 'numba.jit' decorator. The implicit default value for this argument is currently False, but it will be changed to True in Numba 0.59.0. See https://numba.readthedocs.io/en/stable/reference/deprecation.html#deprecation-of-object-mode-fall-back-behaviour-when-using-jit for details.\n",
      "  @numba.jit()\n"
     ]
    }
   ],
   "source": [
    "import torch\n",
    "from transformers import BertTokenizer, BertModel\n",
    "\n",
    "import numpy as np\n",
    "from sklearn.manifold import TSNE\n",
    "from sklearn.decomposition import PCA\n",
    "from umap import UMAP\n",
    "\n",
    "import matplotlib.pyplot as plt\n",
    "import plotly.graph_objects as go\n",
    "\n",
    "import gradio as gr"
   ]
  },
  {
   "attachments": {},
   "cell_type": "markdown",
   "metadata": {},
   "source": [
    "### Get pre-trained BERT Model"
   ]
  },
  {
   "cell_type": "code",
   "execution_count": 2,
   "metadata": {},
   "outputs": [],
   "source": [
    "# English:\n",
    "MODEL = 'bert-base-uncased'"
   ]
  },
  {
   "cell_type": "code",
   "execution_count": 3,
   "metadata": {},
   "outputs": [
    {
     "name": "stderr",
     "output_type": "stream",
     "text": [
      "Some weights of the model checkpoint at bert-base-uncased were not used when initializing BertModel: ['cls.predictions.transform.LayerNorm.weight', 'cls.predictions.bias', 'cls.predictions.transform.dense.bias', 'cls.seq_relationship.weight', 'cls.predictions.transform.LayerNorm.bias', 'cls.seq_relationship.bias', 'cls.predictions.transform.dense.weight', 'cls.predictions.decoder.weight']\n",
      "- This IS expected if you are initializing BertModel from the checkpoint of a model trained on another task or with another architecture (e.g. initializing a BertForSequenceClassification model from a BertForPreTraining model).\n",
      "- This IS NOT expected if you are initializing BertModel from the checkpoint of a model that you expect to be exactly identical (initializing a BertForSequenceClassification model from a BertForSequenceClassification model).\n"
     ]
    }
   ],
   "source": [
    "# Load the pre-trained BERT model and tokenizer\n",
    "tokenizer = BertTokenizer.from_pretrained(MODEL)\n",
    "model = BertModel.from_pretrained(MODEL)"
   ]
  },
  {
   "attachments": {},
   "cell_type": "markdown",
   "metadata": {},
   "source": [
    "### 1. Example with words"
   ]
  },
  {
   "cell_type": "code",
   "execution_count": 4,
   "metadata": {},
   "outputs": [],
   "source": [
    "# Input occupation words\n",
    "occupations = [\"doctor\", \"nurse\", \"engineer\", \"teacher\"]\n",
    "\n",
    "# Create input texts for different genders\n",
    "male_texts = [f\"He is a {occupation}.\" for occupation in occupations]\n",
    "female_texts = [f\"She is a {occupation}.\" for occupation in occupations]\n",
    "\n",
    "# Tokenize and convert input texts to IDs\n",
    "male_input_ids = [tokenizer.encode(text, add_special_tokens=True) for text in male_texts]\n",
    "female_input_ids = [tokenizer.encode(text, add_special_tokens=True) for text in female_texts]\n",
    "\n",
    "# Convert the input IDs to PyTorch tensors\n",
    "male_input_tensors = [torch.tensor([input_ids]) for input_ids in male_input_ids]\n",
    "female_input_tensors = [torch.tensor([input_ids]) for input_ids in female_input_ids]"
   ]
  },
  {
   "cell_type": "code",
   "execution_count": 5,
   "metadata": {},
   "outputs": [
    {
     "name": "stdout",
     "output_type": "stream",
     "text": [
      "Occupation: doctor, Cosine Similarity: 0.9412516951560974\n",
      "Occupation: nurse, Cosine Similarity: 0.9453706741333008\n",
      "Occupation: engineer, Cosine Similarity: 0.917951762676239\n",
      "Occupation: teacher, Cosine Similarity: 0.9249525666236877\n"
     ]
    }
   ],
   "source": [
    "# Get the BERT model embeddings\n",
    "with torch.no_grad():\n",
    "    male_outputs = [model(input_tensor).last_hidden_state for input_tensor in male_input_tensors]\n",
    "    female_outputs = [model(input_tensor).last_hidden_state for input_tensor in female_input_tensors]\n",
    "\n",
    "# Calculate the average embeddings for each occupation and gender\n",
    "male_avg_embeddings = [torch.mean(embeddings, dim=1) for embeddings in male_outputs]\n",
    "female_avg_embeddings = [torch.mean(embeddings, dim=1) for embeddings in female_outputs]\n",
    "\n",
    "# Calculate the cosine similarity between male and female average embeddings for each occupation\n",
    "similarities = [torch.cosine_similarity(male_avg_emb, female_avg_emb) for male_avg_emb, female_avg_emb in\n",
    "                zip(male_avg_embeddings, female_avg_embeddings)]\n",
    "\n",
    "# Print the cosine similarities\n",
    "for occupation, similarity in zip(occupations, similarities):\n",
    "    print(f\"Occupation: {occupation}, Cosine Similarity: {similarity.item()}\")\n"
   ]
  },
  {
   "attachments": {},
   "cell_type": "markdown",
   "metadata": {},
   "source": [
    "### 2. Example of word embeddings visualization"
   ]
  },
  {
   "cell_type": "code",
   "execution_count": 16,
   "metadata": {},
   "outputs": [
    {
     "data": {
      "application/vnd.plotly.v1+json": {
       "config": {
        "plotlyServerURL": "https://plot.ly"
       },
       "data": [
        {
         "hovertext": [
          "s h e",
          "h e",
          "d o c t o r",
          "n u r s e",
          "e n g i n e e r",
          "t e a c h e r"
         ],
         "marker": {
          "color": [
           0,
           1,
           2,
           3,
           4,
           5
          ],
          "colorscale": [
           [
            0,
            "#440154"
           ],
           [
            0.1111111111111111,
            "#482878"
           ],
           [
            0.2222222222222222,
            "#3e4989"
           ],
           [
            0.3333333333333333,
            "#31688e"
           ],
           [
            0.4444444444444444,
            "#26828e"
           ],
           [
            0.5555555555555556,
            "#1f9e89"
           ],
           [
            0.6666666666666666,
            "#35b779"
           ],
           [
            0.7777777777777778,
            "#6ece58"
           ],
           [
            0.8888888888888888,
            "#b5de2b"
           ],
           [
            1,
            "#fde725"
           ]
          ],
          "opacity": 0.8,
          "size": 8
         },
         "mode": "markers",
         "text": [
          "s h e",
          "h e",
          "d o c t o r",
          "n u r s e",
          "e n g i n e e r",
          "t e a c h e r"
         ],
         "type": "scatter3d",
         "x": [
          -27.887846,
          108.428215,
          -50.568405,
          -114.60519,
          155.92764,
          -45.568348
         ],
         "y": [
          42.17782,
          -169.81454,
          -21.891447,
          133.58647,
          41.82644,
          -67.22714
         ],
         "z": [
          229.43517,
          -22.022867,
          -154.64871,
          -3.6629696,
          -101.08151,
          60.42087
         ]
        }
       ],
       "layout": {
        "template": {
         "data": {
          "bar": [
           {
            "error_x": {
             "color": "#2a3f5f"
            },
            "error_y": {
             "color": "#2a3f5f"
            },
            "marker": {
             "line": {
              "color": "#E5ECF6",
              "width": 0.5
             },
             "pattern": {
              "fillmode": "overlay",
              "size": 10,
              "solidity": 0.2
             }
            },
            "type": "bar"
           }
          ],
          "barpolar": [
           {
            "marker": {
             "line": {
              "color": "#E5ECF6",
              "width": 0.5
             },
             "pattern": {
              "fillmode": "overlay",
              "size": 10,
              "solidity": 0.2
             }
            },
            "type": "barpolar"
           }
          ],
          "carpet": [
           {
            "aaxis": {
             "endlinecolor": "#2a3f5f",
             "gridcolor": "white",
             "linecolor": "white",
             "minorgridcolor": "white",
             "startlinecolor": "#2a3f5f"
            },
            "baxis": {
             "endlinecolor": "#2a3f5f",
             "gridcolor": "white",
             "linecolor": "white",
             "minorgridcolor": "white",
             "startlinecolor": "#2a3f5f"
            },
            "type": "carpet"
           }
          ],
          "choropleth": [
           {
            "colorbar": {
             "outlinewidth": 0,
             "ticks": ""
            },
            "type": "choropleth"
           }
          ],
          "contour": [
           {
            "colorbar": {
             "outlinewidth": 0,
             "ticks": ""
            },
            "colorscale": [
             [
              0,
              "#0d0887"
             ],
             [
              0.1111111111111111,
              "#46039f"
             ],
             [
              0.2222222222222222,
              "#7201a8"
             ],
             [
              0.3333333333333333,
              "#9c179e"
             ],
             [
              0.4444444444444444,
              "#bd3786"
             ],
             [
              0.5555555555555556,
              "#d8576b"
             ],
             [
              0.6666666666666666,
              "#ed7953"
             ],
             [
              0.7777777777777778,
              "#fb9f3a"
             ],
             [
              0.8888888888888888,
              "#fdca26"
             ],
             [
              1,
              "#f0f921"
             ]
            ],
            "type": "contour"
           }
          ],
          "contourcarpet": [
           {
            "colorbar": {
             "outlinewidth": 0,
             "ticks": ""
            },
            "type": "contourcarpet"
           }
          ],
          "heatmap": [
           {
            "colorbar": {
             "outlinewidth": 0,
             "ticks": ""
            },
            "colorscale": [
             [
              0,
              "#0d0887"
             ],
             [
              0.1111111111111111,
              "#46039f"
             ],
             [
              0.2222222222222222,
              "#7201a8"
             ],
             [
              0.3333333333333333,
              "#9c179e"
             ],
             [
              0.4444444444444444,
              "#bd3786"
             ],
             [
              0.5555555555555556,
              "#d8576b"
             ],
             [
              0.6666666666666666,
              "#ed7953"
             ],
             [
              0.7777777777777778,
              "#fb9f3a"
             ],
             [
              0.8888888888888888,
              "#fdca26"
             ],
             [
              1,
              "#f0f921"
             ]
            ],
            "type": "heatmap"
           }
          ],
          "heatmapgl": [
           {
            "colorbar": {
             "outlinewidth": 0,
             "ticks": ""
            },
            "colorscale": [
             [
              0,
              "#0d0887"
             ],
             [
              0.1111111111111111,
              "#46039f"
             ],
             [
              0.2222222222222222,
              "#7201a8"
             ],
             [
              0.3333333333333333,
              "#9c179e"
             ],
             [
              0.4444444444444444,
              "#bd3786"
             ],
             [
              0.5555555555555556,
              "#d8576b"
             ],
             [
              0.6666666666666666,
              "#ed7953"
             ],
             [
              0.7777777777777778,
              "#fb9f3a"
             ],
             [
              0.8888888888888888,
              "#fdca26"
             ],
             [
              1,
              "#f0f921"
             ]
            ],
            "type": "heatmapgl"
           }
          ],
          "histogram": [
           {
            "marker": {
             "pattern": {
              "fillmode": "overlay",
              "size": 10,
              "solidity": 0.2
             }
            },
            "type": "histogram"
           }
          ],
          "histogram2d": [
           {
            "colorbar": {
             "outlinewidth": 0,
             "ticks": ""
            },
            "colorscale": [
             [
              0,
              "#0d0887"
             ],
             [
              0.1111111111111111,
              "#46039f"
             ],
             [
              0.2222222222222222,
              "#7201a8"
             ],
             [
              0.3333333333333333,
              "#9c179e"
             ],
             [
              0.4444444444444444,
              "#bd3786"
             ],
             [
              0.5555555555555556,
              "#d8576b"
             ],
             [
              0.6666666666666666,
              "#ed7953"
             ],
             [
              0.7777777777777778,
              "#fb9f3a"
             ],
             [
              0.8888888888888888,
              "#fdca26"
             ],
             [
              1,
              "#f0f921"
             ]
            ],
            "type": "histogram2d"
           }
          ],
          "histogram2dcontour": [
           {
            "colorbar": {
             "outlinewidth": 0,
             "ticks": ""
            },
            "colorscale": [
             [
              0,
              "#0d0887"
             ],
             [
              0.1111111111111111,
              "#46039f"
             ],
             [
              0.2222222222222222,
              "#7201a8"
             ],
             [
              0.3333333333333333,
              "#9c179e"
             ],
             [
              0.4444444444444444,
              "#bd3786"
             ],
             [
              0.5555555555555556,
              "#d8576b"
             ],
             [
              0.6666666666666666,
              "#ed7953"
             ],
             [
              0.7777777777777778,
              "#fb9f3a"
             ],
             [
              0.8888888888888888,
              "#fdca26"
             ],
             [
              1,
              "#f0f921"
             ]
            ],
            "type": "histogram2dcontour"
           }
          ],
          "mesh3d": [
           {
            "colorbar": {
             "outlinewidth": 0,
             "ticks": ""
            },
            "type": "mesh3d"
           }
          ],
          "parcoords": [
           {
            "line": {
             "colorbar": {
              "outlinewidth": 0,
              "ticks": ""
             }
            },
            "type": "parcoords"
           }
          ],
          "pie": [
           {
            "automargin": true,
            "type": "pie"
           }
          ],
          "scatter": [
           {
            "fillpattern": {
             "fillmode": "overlay",
             "size": 10,
             "solidity": 0.2
            },
            "type": "scatter"
           }
          ],
          "scatter3d": [
           {
            "line": {
             "colorbar": {
              "outlinewidth": 0,
              "ticks": ""
             }
            },
            "marker": {
             "colorbar": {
              "outlinewidth": 0,
              "ticks": ""
             }
            },
            "type": "scatter3d"
           }
          ],
          "scattercarpet": [
           {
            "marker": {
             "colorbar": {
              "outlinewidth": 0,
              "ticks": ""
             }
            },
            "type": "scattercarpet"
           }
          ],
          "scattergeo": [
           {
            "marker": {
             "colorbar": {
              "outlinewidth": 0,
              "ticks": ""
             }
            },
            "type": "scattergeo"
           }
          ],
          "scattergl": [
           {
            "marker": {
             "colorbar": {
              "outlinewidth": 0,
              "ticks": ""
             }
            },
            "type": "scattergl"
           }
          ],
          "scattermapbox": [
           {
            "marker": {
             "colorbar": {
              "outlinewidth": 0,
              "ticks": ""
             }
            },
            "type": "scattermapbox"
           }
          ],
          "scatterpolar": [
           {
            "marker": {
             "colorbar": {
              "outlinewidth": 0,
              "ticks": ""
             }
            },
            "type": "scatterpolar"
           }
          ],
          "scatterpolargl": [
           {
            "marker": {
             "colorbar": {
              "outlinewidth": 0,
              "ticks": ""
             }
            },
            "type": "scatterpolargl"
           }
          ],
          "scatterternary": [
           {
            "marker": {
             "colorbar": {
              "outlinewidth": 0,
              "ticks": ""
             }
            },
            "type": "scatterternary"
           }
          ],
          "surface": [
           {
            "colorbar": {
             "outlinewidth": 0,
             "ticks": ""
            },
            "colorscale": [
             [
              0,
              "#0d0887"
             ],
             [
              0.1111111111111111,
              "#46039f"
             ],
             [
              0.2222222222222222,
              "#7201a8"
             ],
             [
              0.3333333333333333,
              "#9c179e"
             ],
             [
              0.4444444444444444,
              "#bd3786"
             ],
             [
              0.5555555555555556,
              "#d8576b"
             ],
             [
              0.6666666666666666,
              "#ed7953"
             ],
             [
              0.7777777777777778,
              "#fb9f3a"
             ],
             [
              0.8888888888888888,
              "#fdca26"
             ],
             [
              1,
              "#f0f921"
             ]
            ],
            "type": "surface"
           }
          ],
          "table": [
           {
            "cells": {
             "fill": {
              "color": "#EBF0F8"
             },
             "line": {
              "color": "white"
             }
            },
            "header": {
             "fill": {
              "color": "#C8D4E3"
             },
             "line": {
              "color": "white"
             }
            },
            "type": "table"
           }
          ]
         },
         "layout": {
          "annotationdefaults": {
           "arrowcolor": "#2a3f5f",
           "arrowhead": 0,
           "arrowwidth": 1
          },
          "autotypenumbers": "strict",
          "coloraxis": {
           "colorbar": {
            "outlinewidth": 0,
            "ticks": ""
           }
          },
          "colorscale": {
           "diverging": [
            [
             0,
             "#8e0152"
            ],
            [
             0.1,
             "#c51b7d"
            ],
            [
             0.2,
             "#de77ae"
            ],
            [
             0.3,
             "#f1b6da"
            ],
            [
             0.4,
             "#fde0ef"
            ],
            [
             0.5,
             "#f7f7f7"
            ],
            [
             0.6,
             "#e6f5d0"
            ],
            [
             0.7,
             "#b8e186"
            ],
            [
             0.8,
             "#7fbc41"
            ],
            [
             0.9,
             "#4d9221"
            ],
            [
             1,
             "#276419"
            ]
           ],
           "sequential": [
            [
             0,
             "#0d0887"
            ],
            [
             0.1111111111111111,
             "#46039f"
            ],
            [
             0.2222222222222222,
             "#7201a8"
            ],
            [
             0.3333333333333333,
             "#9c179e"
            ],
            [
             0.4444444444444444,
             "#bd3786"
            ],
            [
             0.5555555555555556,
             "#d8576b"
            ],
            [
             0.6666666666666666,
             "#ed7953"
            ],
            [
             0.7777777777777778,
             "#fb9f3a"
            ],
            [
             0.8888888888888888,
             "#fdca26"
            ],
            [
             1,
             "#f0f921"
            ]
           ],
           "sequentialminus": [
            [
             0,
             "#0d0887"
            ],
            [
             0.1111111111111111,
             "#46039f"
            ],
            [
             0.2222222222222222,
             "#7201a8"
            ],
            [
             0.3333333333333333,
             "#9c179e"
            ],
            [
             0.4444444444444444,
             "#bd3786"
            ],
            [
             0.5555555555555556,
             "#d8576b"
            ],
            [
             0.6666666666666666,
             "#ed7953"
            ],
            [
             0.7777777777777778,
             "#fb9f3a"
            ],
            [
             0.8888888888888888,
             "#fdca26"
            ],
            [
             1,
             "#f0f921"
            ]
           ]
          },
          "colorway": [
           "#636efa",
           "#EF553B",
           "#00cc96",
           "#ab63fa",
           "#FFA15A",
           "#19d3f3",
           "#FF6692",
           "#B6E880",
           "#FF97FF",
           "#FECB52"
          ],
          "font": {
           "color": "#2a3f5f"
          },
          "geo": {
           "bgcolor": "white",
           "lakecolor": "white",
           "landcolor": "#E5ECF6",
           "showlakes": true,
           "showland": true,
           "subunitcolor": "white"
          },
          "hoverlabel": {
           "align": "left"
          },
          "hovermode": "closest",
          "mapbox": {
           "style": "light"
          },
          "paper_bgcolor": "white",
          "plot_bgcolor": "#E5ECF6",
          "polar": {
           "angularaxis": {
            "gridcolor": "white",
            "linecolor": "white",
            "ticks": ""
           },
           "bgcolor": "#E5ECF6",
           "radialaxis": {
            "gridcolor": "white",
            "linecolor": "white",
            "ticks": ""
           }
          },
          "scene": {
           "xaxis": {
            "backgroundcolor": "#E5ECF6",
            "gridcolor": "white",
            "gridwidth": 2,
            "linecolor": "white",
            "showbackground": true,
            "ticks": "",
            "zerolinecolor": "white"
           },
           "yaxis": {
            "backgroundcolor": "#E5ECF6",
            "gridcolor": "white",
            "gridwidth": 2,
            "linecolor": "white",
            "showbackground": true,
            "ticks": "",
            "zerolinecolor": "white"
           },
           "zaxis": {
            "backgroundcolor": "#E5ECF6",
            "gridcolor": "white",
            "gridwidth": 2,
            "linecolor": "white",
            "showbackground": true,
            "ticks": "",
            "zerolinecolor": "white"
           }
          },
          "shapedefaults": {
           "line": {
            "color": "#2a3f5f"
           }
          },
          "ternary": {
           "aaxis": {
            "gridcolor": "white",
            "linecolor": "white",
            "ticks": ""
           },
           "baxis": {
            "gridcolor": "white",
            "linecolor": "white",
            "ticks": ""
           },
           "bgcolor": "#E5ECF6",
           "caxis": {
            "gridcolor": "white",
            "linecolor": "white",
            "ticks": ""
           }
          },
          "title": {
           "x": 0.05
          },
          "xaxis": {
           "automargin": true,
           "gridcolor": "white",
           "linecolor": "white",
           "ticks": "",
           "title": {
            "standoff": 15
           },
           "zerolinecolor": "white",
           "zerolinewidth": 2
          },
          "yaxis": {
           "automargin": true,
           "gridcolor": "white",
           "linecolor": "white",
           "ticks": "",
           "title": {
            "standoff": 15
           },
           "zerolinecolor": "white",
           "zerolinewidth": 2
          }
         }
        },
        "title": {
         "text": "BERT Embeddings 3D - t-SNE Visualization"
        }
       }
      }
     },
     "metadata": {},
     "output_type": "display_data"
    }
   ],
   "source": [
    "# Example sentences\n",
    "#sentences = [\"She is a doctor\", \"He is a doctor\"]\n",
    "sentences = [\"She\", \"he\", \"doctor\", \"nurse\", \"engineer\", \"teacher\"]\n",
    "\n",
    "# Tokenize the sentences\n",
    "tokenized_sentences = [tokenizer.encode(sentence, add_special_tokens=True) for sentence in sentences]\n",
    "input_tensors = [torch.tensor([input_ids]) for input_ids in tokenized_sentences]\n",
    "\n",
    "# Get the BERT model embeddings for the sentences\n",
    "with torch.no_grad():\n",
    "    sentence_outputs = [model(input_tensor).last_hidden_state.squeeze(0).numpy() for input_tensor in input_tensors]\n",
    "\n",
    "# Filter out non-word tokens\n",
    "non_word_tokens = [tokenizer.cls_token_id, tokenizer.sep_token_id, tokenizer.pad_token_id]\n",
    "\n",
    "filtered_embeddings = []\n",
    "filtered_sentences = []\n",
    "sentence_ids = []\n",
    "\n",
    "sentence_id = 0\n",
    "for sentence, input_ids in zip(sentence_outputs, tokenized_sentences):\n",
    "    \n",
    "    for i in range(len(input_ids)):\n",
    "        if input_ids[i] not in non_word_tokens:\n",
    "            filtered_sentences.append(tokenizer.decode(input_ids[i]))\n",
    "            filtered_embeddings.append(sentence[i])\n",
    "            sentence_ids.append(sentence_id)\n",
    "    sentence_id += 1\n",
    "\n",
    "# Convert filtered embeddings to NumPy array\n",
    "filtered_embeddings = np.array(filtered_embeddings)\n",
    "\n",
    "# Apply t-SNE to reduce the dimensionality of the embeddings\n",
    "tsne_embeddings = TSNE(n_components=3, perplexity=5, random_state=42).fit_transform(filtered_embeddings)\n",
    "\n",
    "# Create an interactive 3D scatter plot using Plotly\n",
    "fig = go.Figure(data=go.Scatter3d(\n",
    "    x=tsne_embeddings[:, 0],\n",
    "    y=tsne_embeddings[:, 1],\n",
    "    z=tsne_embeddings[:, 2],\n",
    "    mode='markers',\n",
    "    text=filtered_sentences,\n",
    "    hovertext=filtered_sentences,\n",
    "    marker=dict(\n",
    "        size=8,\n",
    "        color=sentence_ids,\n",
    "        colorscale='Viridis',\n",
    "        opacity=0.8\n",
    "    )\n",
    "))\n",
    "\n",
    "# Set plot layout\n",
    "fig.update_layout(\n",
    "    title=\"BERT Embeddings 3D - t-SNE Visualization\",\n",
    "    scene=dict(\n",
    "    )\n",
    ")\n",
    "\n",
    "# Show the interactive plot\n",
    "fig.show()"
   ]
  },
  {
   "attachments": {},
   "cell_type": "markdown",
   "metadata": {},
   "source": [
    "### 3. UI Example:"
   ]
  },
  {
   "cell_type": "code",
   "execution_count": 17,
   "metadata": {},
   "outputs": [
    {
     "name": "stdout",
     "output_type": "stream",
     "text": [
      "Running on local URL:  http://127.0.0.1:7860\n",
      "\n",
      "To create a public link, set `share=True` in `launch()`.\n"
     ]
    },
    {
     "data": {
      "text/html": [
       "<div><iframe src=\"http://127.0.0.1:7860/\" width=\"100%\" height=\"500\" allow=\"autoplay; camera; microphone; clipboard-read; clipboard-write;\" frameborder=\"0\" allowfullscreen></iframe></div>"
      ],
      "text/plain": [
       "<IPython.core.display.HTML object>"
      ]
     },
     "metadata": {},
     "output_type": "display_data"
    },
    {
     "name": "stderr",
     "output_type": "stream",
     "text": [
      "OMP: Info #276: omp_set_nested routine deprecated, please use omp_set_max_active_levels instead.\n",
      "/Users/davidrestrepo/miniforge3/envs/transformers/lib/python3.9/site-packages/umap/umap_.py:2344: UserWarning:\n",
      "\n",
      "n_neighbors is larger than the dataset size; truncating to X.shape[0] - 1\n",
      "\n"
     ]
    }
   ],
   "source": [
    "def generate_embeddings(sentences):\n",
    "    sentences = sentences.split(\"\\n\")\n",
    "\n",
    "    # Tokenize the sentences\n",
    "    if isinstance(sentences, str):\n",
    "        tokenized_sentences = [tokenizer.encode(sentences, add_special_tokens=True)]\n",
    "    else:\n",
    "        tokenized_sentences = [tokenizer.encode(sentence, add_special_tokens=True) for sentence in sentences]\n",
    "    \n",
    "    input_tensors = [torch.tensor([input_ids]) for input_ids in tokenized_sentences]\n",
    "\n",
    "    # Get the BERT model embeddings for the sentences\n",
    "    with torch.no_grad():\n",
    "        sentence_outputs = [model(input_tensor).last_hidden_state.squeeze(0).numpy() for input_tensor in input_tensors]\n",
    "\n",
    "    # Filter out non-word tokens\n",
    "    non_word_tokens = [tokenizer.cls_token_id, tokenizer.sep_token_id, tokenizer.pad_token_id]\n",
    "\n",
    "    filtered_sentences = []\n",
    "    filtered_embeddings = []\n",
    "    sentence_ids = []\n",
    "\n",
    "    sentence_id = 0\n",
    "    for sentence, input_ids in zip(sentence_outputs, tokenized_sentences):\n",
    "        for i in range(len(input_ids)):\n",
    "            if input_ids[i] not in non_word_tokens:\n",
    "                filtered_sentences.append(tokenizer.decode(input_ids[i]))\n",
    "                filtered_embeddings.append(sentence[i])\n",
    "                sentence_ids.append(sentence_id)\n",
    "        sentence_id += 1\n",
    "\n",
    "    # Convert filtered embeddings to NumPy array\n",
    "    filtered_embeddings = np.array(filtered_embeddings)\n",
    "\n",
    "    return filtered_sentences, filtered_embeddings, sentence_ids\n",
    "\n",
    "\n",
    "\n",
    "# Define the function for generating the t-SNE plot\n",
    "def generate_tsne_plot(plot_type, sentences, method):\n",
    "\n",
    "    filtered_sentences, filtered_embeddings, sentence_ids = generate_embeddings(sentences)        \n",
    "\n",
    "    if len(filtered_sentences) > 10:\n",
    "        perplexity = 6\n",
    "    elif len(filtered_sentences) > 5:\n",
    "        perplexity = 5\n",
    "    elif len(filtered_sentences) > 1:\n",
    "        perplexity = 1\n",
    "    else:\n",
    "        perplexity = len(filtered_sentences) - 1\n",
    "\n",
    "    if plot_type == '3D':\n",
    "        if method == 'PCA':\n",
    "            # Apply PCA to reduce the dimensionality of the embeddings\n",
    "            reduced_embeddings = PCA(n_components=3, random_state=42).fit_transform(filtered_embeddings)\n",
    "        elif method == 't-SNE':\n",
    "            # Apply t-SNE to reduce the dimensionality of the embeddings\n",
    "            reduced_embeddings = TSNE(n_components=3, perplexity=perplexity, random_state=42).fit_transform(filtered_embeddings)\n",
    "        elif method == 'UMAP':\n",
    "            # Apply UMAP to reduce the dimensionality of the embeddings\n",
    "            reduced_embeddings = UMAP(n_components=3, random_state=42).fit_transform(filtered_embeddings)\n",
    "\n",
    "        # Create an interactive 3D scatter plot using Plotly\n",
    "        fig = go.Figure(data=go.Scatter3d(\n",
    "            x=reduced_embeddings[:, 0],\n",
    "            y=reduced_embeddings[:, 1],\n",
    "            z=reduced_embeddings[:, 2],\n",
    "            mode='markers',\n",
    "            text=filtered_sentences,\n",
    "            marker=dict(\n",
    "                size=8,\n",
    "                color=sentence_ids,\n",
    "                colorscale='Viridis',\n",
    "                opacity=0.8\n",
    "            )\n",
    "        ))\n",
    "\n",
    "    else:\n",
    "        if method == 'PCA':\n",
    "            # Apply PCA to reduce the dimensionality of the embeddings\n",
    "            reduced_embeddings = PCA(n_components=2, random_state=42).fit_transform(filtered_embeddings)\n",
    "        elif method == 't-SNE':\n",
    "            # Apply t-SNE to reduce the dimensionality of the embeddings\n",
    "            reduced_embeddings = TSNE(n_components=2, perplexity=perplexity, random_state=42).fit_transform(filtered_embeddings)\n",
    "        elif method == 'UMAP':\n",
    "            # Apply UMAP to reduce the dimensionality of the embeddings\n",
    "            reduced_embeddings = UMAP(n_components=2, random_state=42).fit_transform(filtered_embeddings)\n",
    "\n",
    "        # Create an interactive 3D scatter plot using Plotly\n",
    "        fig = go.Figure(data=go.Scatter(\n",
    "            x=reduced_embeddings[:, 0],\n",
    "            y=reduced_embeddings[:, 1],\n",
    "            mode='markers',\n",
    "            text=filtered_sentences,\n",
    "            marker=dict(\n",
    "                size=8,\n",
    "                color=sentence_ids,\n",
    "                colorscale='Viridis',\n",
    "                opacity=0.8\n",
    "            )\n",
    "        ))\n",
    "    \n",
    "    # Set plot layout\n",
    "    fig.update_layout(\n",
    "        title=f\"BERT Embeddings - {method} {plot_type} Visualization\",\n",
    "        scene=dict(\n",
    "        )\n",
    "    )    \n",
    "\n",
    "    # Return the plot figure as an HTML string\n",
    "    return fig\n",
    "\n",
    "\n",
    "with gr.Blocks() as demo:\n",
    "    button = gr.Radio(label=\"Plot type\",\n",
    "                        choices=['3D', '2D'], value='3D')\n",
    "    \n",
    "    method = gr.Radio(label=\"Dimensionality Reduction Method\",\n",
    "                        choices=['t-SNE', 'PCA', 'UMAP'], value='t-SNE')\n",
    "\n",
    "    # Define the input component\n",
    "    input_text = gr.Textbox(lines=3, label=\"Enter one sentences per line\", value=\"He is a nurse \\nShe is a nurse\")\n",
    "\n",
    "    # Define the button component\n",
    "    btn = gr.Button(value=\"Run\")\n",
    "\n",
    "    # Define the output component\n",
    "    plot = gr.Plot(label=\"Embeddings Plot\")\n",
    "\n",
    "    # if plot changes, run the function\n",
    "    button.change(generate_tsne_plot, inputs=[button, input_text, method], outputs=[plot])\n",
    "\n",
    "    # if plot changes, run the function\n",
    "    method.change(generate_tsne_plot, inputs=[button, input_text, method], outputs=[plot])\n",
    "\n",
    "    # If button is clicked, run the function\n",
    "    btn.click(generate_tsne_plot, inputs=[button, input_text, method], outputs=[plot])\n",
    "\n",
    "    # load the interface:\n",
    "    demo.load(generate_tsne_plot, inputs=[button, input_text, method], outputs=[plot])\n",
    "\n",
    "    # Run the interface\n",
    "    demo.launch()\n"
   ]
  },
  {
   "cell_type": "code",
   "execution_count": null,
   "metadata": {},
   "outputs": [],
   "source": []
  }
 ],
 "metadata": {
  "kernelspec": {
   "display_name": "Python 3 (ipykernel)",
   "language": "python",
   "name": "python3"
  },
  "language_info": {
   "codemirror_mode": {
    "name": "ipython",
    "version": 3
   },
   "file_extension": ".py",
   "mimetype": "text/x-python",
   "name": "python",
   "nbconvert_exporter": "python",
   "pygments_lexer": "ipython3",
   "version": "3.9.13"
  }
 },
 "nbformat": 4,
 "nbformat_minor": 2
}
